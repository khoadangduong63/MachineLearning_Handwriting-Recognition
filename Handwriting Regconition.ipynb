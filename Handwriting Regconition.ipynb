{
 "cells": [
  {
   "cell_type": "markdown",
   "metadata": {},
   "source": [
    "# Nhận dạng chữ số viết tay bằng Support Vector Machine\n",
    "\n",
    "---\n",
    "## Import thư viện cần thiết"
   ]
  },
  {
   "cell_type": "code",
   "execution_count": 1,
   "metadata": {},
   "outputs": [],
   "source": [
    "import numpy as np\n",
    "import pickle\n",
    "import gzip"
   ]
  },
  {
   "cell_type": "markdown",
   "metadata": {},
   "source": [
    "---\n",
    "## Hàm đọc dữ liệu"
   ]
  },
  {
   "cell_type": "code",
   "execution_count": 2,
   "metadata": {},
   "outputs": [],
   "source": [
    "def read_mnist(mnist_file):\n",
    "    \"\"\"\n",
    "    Reads MNIST data.\n",
    "    \n",
    "    Parameters\n",
    "    ----------\n",
    "    mnist_file : string\n",
    "        The name of the MNIST file (e.g., 'mnist.pkl.gz').\n",
    "    \n",
    "    Returns\n",
    "    -------\n",
    "    (train_X, train_Y, val_X, val_Y, test_X, test_Y) : tuple\n",
    "        train_X : numpy array, shape (N=50000, d=784)\n",
    "            Input vectors of the training set.\n",
    "        train_Y: numpy array, shape (N=50000)\n",
    "            Outputs of the training set.\n",
    "        val_X : numpy array, shape (N=10000, d=784)\n",
    "            Input vectors of the validation set.\n",
    "        val_Y: numpy array, shape (N=10000)\n",
    "            Outputs of the validation set.\n",
    "        test_X : numpy array, shape (N=10000, d=784)\n",
    "            Input vectors of the test set.\n",
    "        test_Y: numpy array, shape (N=10000)\n",
    "            Outputs of the test set.\n",
    "    \"\"\"\n",
    "    f = gzip.open(mnist_file, 'rb')\n",
    "    train_data, val_data, test_data = pickle.load(f, encoding='latin1')\n",
    "    f.close()\n",
    "    \n",
    "    train_X, train_Y = train_data\n",
    "    val_X, val_Y = val_data\n",
    "    test_X, test_Y = test_data    \n",
    "    \n",
    "    return train_X, train_Y, val_X, val_Y, test_X, test_Y"
   ]
  },
  {
   "cell_type": "code",
   "execution_count": 3,
   "metadata": {},
   "outputs": [
    {
     "name": "stdout",
     "output_type": "stream",
     "text": [
      "train_X.shape = (50000, 784)\n",
      "train_Y.shape = (50000,)\n",
      "val_X.shape   = (10000, 784)\n",
      "val_Y.shape   = (10000,)\n",
      "test_X.shape  = (10000, 784)\n",
      "test_Y.shape  = (10000,)\n",
      "\n",
      "train_X: min = 0.000, max = 0.996\n",
      "train_Y: min = 0, max = 9\n"
     ]
    }
   ],
   "source": [
    "# Test dữ liệu đã đọc\n",
    "train_X, train_Y, val_X, val_Y, test_X, test_Y = read_mnist('mnist.pkl.gz')\n",
    "\n",
    "print('train_X.shape =', train_X.shape)\n",
    "print('train_Y.shape =', train_Y.shape)\n",
    "print('val_X.shape   =', val_X.shape)\n",
    "print('val_Y.shape   =', val_Y.shape)\n",
    "print('test_X.shape  =', test_X.shape)\n",
    "print('test_Y.shape  =', test_Y.shape)\n",
    "\n",
    "print('\\ntrain_X: min = %.3f, max = %.3f' %(train_X.min(), train_X.max()))\n",
    "print('train_Y: min = %d, max = %d' %(train_Y.min(), train_Y.max()))"
   ]
  },
  {
   "cell_type": "markdown",
   "metadata": {},
   "source": [
    "---\n",
    "## Import thư viện SVM"
   ]
  },
  {
   "cell_type": "code",
   "execution_count": 4,
   "metadata": {},
   "outputs": [],
   "source": [
    "from sklearn.svm import SVC\n",
    "import time\n",
    "from sklearn.externals import joblib # Để lưu lại model"
   ]
  },
  {
   "cell_type": "markdown",
   "metadata": {},
   "source": [
    "---\n",
    "## Hàm ghi file"
   ]
  },
  {
   "cell_type": "code",
   "execution_count": 5,
   "metadata": {},
   "outputs": [],
   "source": [
    "def writeFileLinear(fileName, data, C):\n",
    "    with open(fileName, 'w') as f:\n",
    "        for i in range(len(data)):\n",
    "            f.write(str(C[i]) + ' ' + str(data[i]) + '\\n')\n",
    "            \n",
    "def writeFileRBF(fileName, data, C, gamma):\n",
    "    k = 0\n",
    "    with open(fileName, 'w') as f:\n",
    "        for c in C:\n",
    "            for g in gamma:\n",
    "                f.write(str(c) + ' ' + str(g) + ' ' + str(data[k]) + '\\n')\n",
    "                k += 1"
   ]
  },
  {
   "cell_type": "markdown",
   "metadata": {},
   "source": [
    "---\n",
    "## Khởi tạo biến để lưu độ lỗi và thời gian của Linear Kernel"
   ]
  },
  {
   "cell_type": "code",
   "execution_count": 6,
   "metadata": {},
   "outputs": [],
   "source": [
    "lossTrainLinear = [] # Độ lỗi dữ liệu trên tập train\n",
    "lossValLinear = [] # Độ lỗi dữ liệu trên Validation\n",
    "timeTrainLinear = [] # Thời gian chạy huấn luyện"
   ]
  },
  {
   "cell_type": "markdown",
   "metadata": {},
   "source": [
    "---\n",
    "## Chạy để train Linear Kernel"
   ]
  },
  {
   "cell_type": "code",
   "execution_count": 35,
   "metadata": {},
   "outputs": [],
   "source": [
    "fileName = 'SVMLinearWithC_'\n",
    "CTrainLinear = [0.001, 0.01, 0.05, 0.1, 1, 3, 5, 7, 10, 20, 30, 100, 300, 500, 1000]\n",
    "\n",
    "for CTrain in CTrainLinear:\n",
    "    model = SVC(kernel = 'linear', C = CTrain)\n",
    "    start = time.time() # Set thời gian bắt đầu train\n",
    "    model.fit(train_X, train_Y)\n",
    "    timeTrainLinear.append(time.time() - start)\n",
    "    lossTrainLinear.append(1.0 - model.score(train_X, train_Y))\n",
    "    lossValLinear.append(1.0 - model.score(val_X, val_Y))\n",
    "    joblib.dump(model, fileName + str(CTrain) + '.model') # Lưu lại model"
   ]
  },
  {
   "cell_type": "markdown",
   "metadata": {},
   "source": [
    "---\n",
    "## Chạy để ghi file Linear:"
   ]
  },
  {
   "cell_type": "code",
   "execution_count": 36,
   "metadata": {},
   "outputs": [],
   "source": [
    "writeFileLinear('Linear_LossTrain.data', lossTrainLinear, CTrainLinear)\n",
    "writeFileLinear('Linear_LossVal.data', lossValLinear, CTrainLinear)\n",
    "writeFileLinear('Linear_TimeTrain.data', timeTrainLinear, CTrainLinear)"
   ]
  },
  {
   "cell_type": "markdown",
   "metadata": {},
   "source": [
    "---\n",
    "## Khởi tạo biến để lưu độ lỗi và thời gian của RBF"
   ]
  },
  {
   "cell_type": "code",
   "execution_count": 39,
   "metadata": {},
   "outputs": [],
   "source": [
    "lossTrainRBF = [] # Độ lỗi dữ liệu trên tập train\n",
    "lossValRBF = [] # Độ lỗi dữ liệu trên tập Validation\n",
    "timeTrainRBF = [] # Thời gian chạy huấn luyện"
   ]
  },
  {
   "cell_type": "markdown",
   "metadata": {},
   "source": [
    "---\n",
    "## Chạy để train RBF:"
   ]
  },
  {
   "cell_type": "code",
   "execution_count": 46,
   "metadata": {},
   "outputs": [],
   "source": [
    "fileName = 'SVMGaussianWithC_'\n",
    "\n",
    "CTrainRBF = [0.1, 1, 5, 7, 10, 20, 30]\n",
    "gammas = [0.001, 0.01, 0.1]\n",
    "for CTrain in CTrainRBF:\n",
    "    for g in gammas:\n",
    "        model = SVC(kernel = 'rbf', gamma = g, C = CTrain)\n",
    "        start = time.time()\n",
    "        model.fit(train_X, train_Y)\n",
    "        timeTrainRBF.append(time.time() - start)\n",
    "        lossTrainRBF.append(1.0 - model.score(train_X, train_Y))\n",
    "        lossValRBF.append(1.0 - model.score(val_X, val_Y))\n",
    "        joblib.dump(model, fileName + str(CTrain) + '-Gamma_' + str(g) + '.model')"
   ]
  },
  {
   "cell_type": "markdown",
   "metadata": {},
   "source": [
    "---\n",
    "## Chạy để ghi file RBF:"
   ]
  },
  {
   "cell_type": "code",
   "execution_count": 52,
   "metadata": {},
   "outputs": [],
   "source": [
    "writeFileRBF('RBF_LossTrain.data', lossTrainRBF, CTrainRBF, gammas)\n",
    "writeFileRBF('RBF_LossVal.data', lossValRBF, CTrainRBF, gammas)\n",
    "writeFileRBF('RBF_TimeTrain.data', timeTrainRBF, CTrainRBF, gammas)"
   ]
  },
  {
   "cell_type": "markdown",
   "metadata": {},
   "source": [
    "---\n",
    "## Chọn model có lossVal nhỏ nhất để test:"
   ]
  },
  {
   "cell_type": "code",
   "execution_count": 45,
   "metadata": {},
   "outputs": [
    {
     "name": "stdout",
     "output_type": "stream",
     "text": [
      "Độ lỗi nhỏ nhất trên tập validation: 0.016500\n",
      "Mô hình được chọn: \n",
      "SVC(C=10, cache_size=200, class_weight=None, coef0=0.0,\n",
      "  decision_function_shape='ovr', degree=3, gamma=0.01, kernel='rbf',\n",
      "  max_iter=-1, probability=False, random_state=None, shrinking=True,\n",
      "  tol=0.001, verbose=False)\n",
      "Độ lỗi trên tập test: 0.018000\n"
     ]
    }
   ],
   "source": [
    "print('Độ lỗi nhỏ nhất trên tập validation: %f' % (np.min(lossValLinear + lossValRBF)))\n",
    "index = np.argmin(lossValLinear + lossValRBF)\n",
    "if index < len(lossValLinear):\n",
    "    fileModel = 'SVMLinearWithC_' + str(CTrainLinear[index]) + '.model' #sua lai cai ten file cho dung\n",
    "else:\n",
    "    index = index - len(lossValLinear)\n",
    "    fileModel = 'SVMGaussianWithC_' + str(CTrainRBF[index]) + '-Gamma_' + str(gammas[index]) + '.model' #sua lai cai ten file cho dung\n",
    "\n",
    "model = joblib.load(fileModel)\n",
    "print('Mô hình được chọn: ')\n",
    "print(model)\n",
    "print('Độ lỗi trên tập test: %f' % (1 - model.score(test_X, test_Y)))"
   ]
  }
 ],
 "metadata": {
  "anaconda-cloud": {},
  "kernelspec": {
   "display_name": "Python 3",
   "language": "python",
   "name": "python3"
  },
  "language_info": {
   "codemirror_mode": {
    "name": "ipython",
    "version": 3
   },
   "file_extension": ".py",
   "mimetype": "text/x-python",
   "name": "python",
   "nbconvert_exporter": "python",
   "pygments_lexer": "ipython3",
   "version": "3.7.0"
  },
  "toc": {
   "nav_menu": {},
   "number_sections": false,
   "sideBar": true,
   "skip_h1_title": false,
   "title_cell": "Table of Contents",
   "title_sidebar": "Contents",
   "toc_cell": false,
   "toc_position": {},
   "toc_section_display": true,
   "toc_window_display": true
  }
 },
 "nbformat": 4,
 "nbformat_minor": 1
}
